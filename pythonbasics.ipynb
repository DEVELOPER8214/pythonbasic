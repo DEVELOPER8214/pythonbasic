{
  "nbformat": 4,
  "nbformat_minor": 0,
  "metadata": {
    "colab": {
      "provenance": []
    },
    "kernelspec": {
      "name": "python3",
      "display_name": "Python 3"
    },
    "language_info": {
      "name": "python"
    }
  },
  "cells": [
    {
      "cell_type": "markdown",
      "source": [],
      "metadata": {
        "id": "wVvoOV0HVpQ8"
      }
    },
    {
      "cell_type": "markdown",
      "source": [
        "1. What is Python, and why is it popular?\n",
        "Ans : Python is a high-level, interpreted programming language known for its simple syntax and readability. It's popular due to its versatility, large community support, and wide use in web development, data science, AI, automation, and more.\n",
        "\n",
        "2. What is an interpreter in Python?\n",
        "Ans : An interpreter is a program that reads and executes Python code line by line, translating it into machine code at runtime.\n",
        "\n",
        "3. What are pre-defined keywords in Python?\n",
        " Ans : Pre-defined keywords are reserved words in Python (like if, else, for, True) that have special meaning and cannot be used as variable names.\n",
        "\n",
        "4. Can keywords be used as variable names?\n",
        "Ans : No, keywords cannot be used as variable names because they are reserved for specific syntax or functions in the language.\n",
        "\n",
        "5. What is mutability in Python?\n",
        "ans : Mutability refers to whether an object’s content can be changed after it is created. Mutable objects can be changed; immutable objects cannot.\n",
        "\n",
        "6. Why are lists mutable, but tuples are immutable?\n",
        " Ans : Lists are designed for dynamic data, so they allow changes. Tuples are meant for fixed collections of data, providing more stability and allowing Python to optimize their storage and performance.\n",
        "\n",
        "7. What is the difference between == and is operators in Python?\n",
        "\n",
        "Ans : == checks if two values are equal.\n",
        "\n",
        "is checks if two references point to the same object in memory.\n",
        "\n",
        "8. What are logical operators in Python?\n",
        "Ans : Logical operators are used to combine conditional statements:\n",
        "\n",
        " and (both conditions must be True)\n",
        "\n",
        " or (at least one condition is True)\n",
        "\n",
        " not (inverts the condition)\n",
        "\n",
        "9. What is type casting in Python?\n",
        "Ans : Type casting is converting one data type into another, like converting a string to an integer using int(\"5\").\n",
        "\n",
        "10. What is the difference between implicit and explicit type casting?\n",
        "\n",
        "Ans :Implicit casting: Python automatically converts types (e.g., int + float = float).\n",
        "\n",
        "Explicit casting: The programmer manually converts types using functions like int(), float(), str().\n",
        "\n",
        "11. What is the purpose of conditional statements in Python?\n",
        "Ans : Conditional statements control the flow of execution based on conditions. They help in decision-making by executing certain blocks of code when conditions are true.\n",
        "\n",
        "12. How does the elif statement work?\n",
        "Ans : elif  allows multiple conditions to be checked sequentially after an if. If the if is False, elif conditions are evaluated in order.\n",
        "\n",
        "13. What is the difference between for and while loops?\n",
        "\n",
        "Ans : for loops iterate over a sequence (like a list or range) with a known number of iterations.\n",
        "\n",
        "     while loops run as long as a condition is true, useful when the number of iterations isn't known in advance.\n",
        "\n",
        "14. Describe a scenario where a while loop is more suitable than a for loop\n",
        "Ans : When asking a user to input a valid password, we don’t know how many tries they’ll take.\n",
        "   A while loop is better because it can keep asking until the correct input is given.\n"
      ],
      "metadata": {
        "id": "WQEFv7RqVrv8"
      }
    },
    {
      "cell_type": "code",
      "source": [],
      "metadata": {
        "id": "zuTSW1wxVvLQ"
      },
      "execution_count": null,
      "outputs": []
    },
    {
      "cell_type": "markdown",
      "source": [
        "PRACTICAL QUESTIONS :"
      ],
      "metadata": {
        "id": "j-5VFvHMVxiD"
      }
    },
    {
      "cell_type": "code",
      "source": [
        "# 1 : program for hello world\n",
        "print(\"Hello World\")"
      ],
      "metadata": {
        "colab": {
          "base_uri": "https://localhost:8080/"
        },
        "id": "9z1YRKypV2wT",
        "outputId": "2fa51ebb-7191-4572-ecc7-fad54a9d96b8"
      },
      "execution_count": 1,
      "outputs": [
        {
          "output_type": "stream",
          "name": "stdout",
          "text": [
            "Hello World\n"
          ]
        }
      ]
    },
    {
      "cell_type": "code",
      "source": [
        "# 2: program for display age and name\n",
        "age=19\n",
        "name = \"Rishabh Bhardwaj\"\n",
        "print(\"my name is \",name,\"and i am \",age,\"years old.\")"
      ],
      "metadata": {
        "colab": {
          "base_uri": "https://localhost:8080/"
        },
        "id": "mTl-fXhJWOI3",
        "outputId": "629ae0c7-dcf7-4713-a122-7b65317fd5cc"
      },
      "execution_count": 3,
      "outputs": [
        {
          "output_type": "stream",
          "name": "stdout",
          "text": [
            "my name is  Rishabh Bhardwaj and i am  19 years old.\n"
          ]
        }
      ]
    },
    {
      "cell_type": "code",
      "source": [
        "#3 : print all keywords\n",
        "import keyword\n",
        "print(keyword.kwlist)"
      ],
      "metadata": {
        "colab": {
          "base_uri": "https://localhost:8080/"
        },
        "id": "7G7d26GzWn48",
        "outputId": "197af3ec-9e8a-4c82-caa6-104b834a8199"
      },
      "execution_count": 5,
      "outputs": [
        {
          "output_type": "stream",
          "name": "stdout",
          "text": [
            "['False', 'None', 'True', 'and', 'as', 'assert', 'async', 'await', 'break', 'class', 'continue', 'def', 'del', 'elif', 'else', 'except', 'finally', 'for', 'from', 'global', 'if', 'import', 'in', 'is', 'lambda', 'nonlocal', 'not', 'or', 'pass', 'raise', 'return', 'try', 'while', 'with', 'yield']\n"
          ]
        }
      ]
    },
    {
      "cell_type": "code",
      "source": [
        "#4 : check keyword\n",
        "l=keyword.kwlist\n",
        "a=input(\"enter any word\")\n",
        "if a in l :\n",
        "  print(\"this is a keyword\")\n",
        "else:\n",
        "    print(\"this is not a keyword\")"
      ],
      "metadata": {
        "colab": {
          "base_uri": "https://localhost:8080/"
        },
        "id": "gDt3n8knW8Oh",
        "outputId": "0abd382e-9e7e-4863-be9e-357bb902276e"
      },
      "execution_count": 8,
      "outputs": [
        {
          "output_type": "stream",
          "name": "stdout",
          "text": [
            "enter any wordTrue\n",
            "this is a keyword\n"
          ]
        }
      ]
    },
    {
      "cell_type": "code",
      "source": [
        "#5 : modifying tuple and list\n",
        "\n",
        "k = [10, 20, 30]\n",
        "m = (10, 20, 30)\n",
        "\n",
        "k[1] = 99\n",
        "print(\"Modified list:\", k)\n",
        "\n",
        "\n"
      ],
      "metadata": {
        "colab": {
          "base_uri": "https://localhost:8080/"
        },
        "id": "Xrl034JRXW6J",
        "outputId": "5384449f-0e75-42a1-d8d0-2cfa87d156f9"
      },
      "execution_count": 12,
      "outputs": [
        {
          "output_type": "stream",
          "name": "stdout",
          "text": [
            "Modified list: [10, 99, 30]\n"
          ]
        }
      ]
    },
    {
      "cell_type": "code",
      "source": [
        "m[1] = 99\n",
        "print(\"Modified tuple:\", m) # shows error because we can not modify tuple\n"
      ],
      "metadata": {
        "colab": {
          "base_uri": "https://localhost:8080/",
          "height": 158
        },
        "id": "zanyLVorYC2m",
        "outputId": "172b509f-191f-4759-cd15-11e4e6b025d1"
      },
      "execution_count": 13,
      "outputs": [
        {
          "output_type": "error",
          "ename": "TypeError",
          "evalue": "'tuple' object does not support item assignment",
          "traceback": [
            "\u001b[0;31m---------------------------------------------------------------------------\u001b[0m",
            "\u001b[0;31mTypeError\u001b[0m                                 Traceback (most recent call last)",
            "\u001b[0;32m<ipython-input-13-134dedbab6ea>\u001b[0m in \u001b[0;36m<cell line: 0>\u001b[0;34m()\u001b[0m\n\u001b[0;32m----> 1\u001b[0;31m \u001b[0mm\u001b[0m\u001b[0;34m[\u001b[0m\u001b[0;36m1\u001b[0m\u001b[0;34m]\u001b[0m \u001b[0;34m=\u001b[0m \u001b[0;36m99\u001b[0m\u001b[0;34m\u001b[0m\u001b[0;34m\u001b[0m\u001b[0m\n\u001b[0m\u001b[1;32m      2\u001b[0m \u001b[0mprint\u001b[0m\u001b[0;34m(\u001b[0m\u001b[0;34m\"Modified tuple:\"\u001b[0m\u001b[0;34m,\u001b[0m \u001b[0mm\u001b[0m\u001b[0;34m)\u001b[0m \u001b[0;31m# shows error because we can not modify tuple\u001b[0m\u001b[0;34m\u001b[0m\u001b[0;34m\u001b[0m\u001b[0m\n",
            "\u001b[0;31mTypeError\u001b[0m: 'tuple' object does not support item assignment"
          ]
        }
      ]
    },
    {
      "cell_type": "code",
      "source": [
        "# 6 :\n",
        "def modify_data(immutable_var, mutable_var):\n",
        "    immutable_var += 1\n",
        "    mutable_var.append(100)\n",
        "    print(\"Inside function - Immutable:\", immutable_var)\n",
        "    print(\"Inside function - Mutable:\", mutable_var)\n",
        "\n",
        "# Variables\n",
        "x = 10              # Immutable\n",
        "y = [1, 2, 3]       # Mutable\n",
        "\n",
        "modify_data(x, y)\n",
        "print(\"Outside function - Immutable:\", x)      # unchanged\n",
        "print(\"Outside function - Mutable:\", y)        # changed\n"
      ],
      "metadata": {
        "colab": {
          "base_uri": "https://localhost:8080/"
        },
        "id": "84YQlTMRXOk1",
        "outputId": "65a63078-d3e2-4672-8ba8-e35c04444738"
      },
      "execution_count": 14,
      "outputs": [
        {
          "output_type": "stream",
          "name": "stdout",
          "text": [
            "Inside function - Immutable: 11\n",
            "Inside function - Mutable: [1, 2, 3, 100]\n",
            "Outside function - Immutable: 10\n",
            "Outside function - Mutable: [1, 2, 3, 100]\n"
          ]
        }
      ]
    },
    {
      "cell_type": "code",
      "source": [
        "# 7  :\n",
        "a = float(input(\"Enter first number: \"))\n",
        "b = float(input(\"Enter second number: \"))\n",
        "\n",
        "print(\"Addition:\", a + b)\n",
        "print(\"Subtraction:\", a - b)\n",
        "print(\"Multiplication:\", a * b)\n",
        "print(\"Division:\", a / b if b != 0 else \"Cannot divide by zero\")\n"
      ],
      "metadata": {
        "colab": {
          "base_uri": "https://localhost:8080/"
        },
        "id": "AkZ7Crc4YTuR",
        "outputId": "f6c717ae-215d-4b52-dfe2-1d9aa796fcf6"
      },
      "execution_count": 15,
      "outputs": [
        {
          "output_type": "stream",
          "name": "stdout",
          "text": [
            "Enter first number: 6\n",
            "Enter second number: 7\n",
            "Addition: 13.0\n",
            "Subtraction: -1.0\n",
            "Multiplication: 42.0\n",
            "Division: 0.8571428571428571\n"
          ]
        }
      ]
    },
    {
      "cell_type": "code",
      "source": [
        "# 8 :\n",
        "x = int(input(\"Enter a number: \"))\n",
        "\n",
        "print(\"Is x between 10 and 20?\", x > 10 and x < 20)\n",
        "print(\"Is x less than 10 or greater than 20?\", x < 10 or x > 20)\n",
        "print(\"Is x not equal to 15?\", not (x == 15))\n"
      ],
      "metadata": {
        "colab": {
          "base_uri": "https://localhost:8080/"
        },
        "id": "7H6mFKL5ZCRp",
        "outputId": "bccbfd01-8c94-4f26-dcd2-ebf75fed40e9"
      },
      "execution_count": 17,
      "outputs": [
        {
          "output_type": "stream",
          "name": "stdout",
          "text": [
            "Enter a number: 7\n",
            "Is x between 10 and 20? False\n",
            "Is x less than 10 or greater than 20? True\n",
            "Is x not equal to 15? True\n"
          ]
        }
      ]
    },
    {
      "cell_type": "code",
      "source": [],
      "metadata": {
        "id": "-vO2dn4OhTNC"
      },
      "execution_count": null,
      "outputs": []
    },
    {
      "cell_type": "code",
      "source": [
        "#9 :\n",
        "user_input = input(\"Enter a value: \")\n",
        "\n",
        "int_value = int(user_input)\n",
        "float_value = float(user_input)\n",
        "bool_value = bool(user_input)\n",
        "\n",
        "print(\"As integer:\", int_value)\n",
        "print(\"As float:\", float_value)\n",
        "print(\"As boolean:\", bool_value)\n",
        "\n"
      ],
      "metadata": {
        "colab": {
          "base_uri": "https://localhost:8080/"
        },
        "id": "ls_W1Q3QZPH7",
        "outputId": "72a124d5-1e01-41fb-8e1a-f8d5db0330ca"
      },
      "execution_count": 23,
      "outputs": [
        {
          "output_type": "stream",
          "name": "stdout",
          "text": [
            "Enter a value: 21\n",
            "As integer: 21\n",
            "As float: 21.0\n",
            "As boolean: True\n"
          ]
        }
      ]
    },
    {
      "cell_type": "code",
      "source": [
        "#10\n",
        "str_list = ['1', '2', '3']\n",
        "int_list = [int(i) for i in str_list]\n",
        "\n",
        "print(\"Original list (strings):\", str_list)\n",
        "print(\"Converted list (integers):\", int_list)\n"
      ],
      "metadata": {
        "colab": {
          "base_uri": "https://localhost:8080/"
        },
        "id": "tHjH81WShURv",
        "outputId": "3be13be2-5002-475c-91c6-0c418025eb5f"
      },
      "execution_count": 24,
      "outputs": [
        {
          "output_type": "stream",
          "name": "stdout",
          "text": [
            "Original list (strings): ['1', '2', '3']\n",
            "Converted list (integers): [1, 2, 3]\n"
          ]
        }
      ]
    },
    {
      "cell_type": "code",
      "source": [
        "#11\n",
        "num = float(input(\"Enter a number: \"))\n",
        "\n",
        "if num > 0:\n",
        "    print(\"Positive\")\n",
        "elif num < 0:\n",
        "    print(\"Negative\")\n",
        "else:\n",
        "    print(\"Zero\")\n"
      ],
      "metadata": {
        "colab": {
          "base_uri": "https://localhost:8080/"
        },
        "id": "m7lcnopblk1L",
        "outputId": "68c4c89b-e635-4fd5-c742-3a3864f80bc4"
      },
      "execution_count": 25,
      "outputs": [
        {
          "output_type": "stream",
          "name": "stdout",
          "text": [
            "Enter a number: 12.8\n",
            "Positive\n"
          ]
        }
      ]
    },
    {
      "cell_type": "code",
      "source": [
        "#12\n",
        "for i in range(1, 11):\n",
        "    print(i)\n"
      ],
      "metadata": {
        "colab": {
          "base_uri": "https://localhost:8080/"
        },
        "id": "Wkkck2pOlyNj",
        "outputId": "f3192837-7322-4168-c5a0-4c87b9e0b6e3"
      },
      "execution_count": 26,
      "outputs": [
        {
          "output_type": "stream",
          "name": "stdout",
          "text": [
            "1\n",
            "2\n",
            "3\n",
            "4\n",
            "5\n",
            "6\n",
            "7\n",
            "8\n",
            "9\n",
            "10\n"
          ]
        }
      ]
    },
    {
      "cell_type": "code",
      "source": [
        "#13\n",
        "sum_even = 0\n",
        "for i in range(1, 51):\n",
        "    if i % 2 == 0:\n",
        "        sum_even += i\n",
        "print(\"Sum of even numbers from 1 to 50:\", sum_even)\n"
      ],
      "metadata": {
        "colab": {
          "base_uri": "https://localhost:8080/"
        },
        "id": "-MoEee5el3hX",
        "outputId": "9de6e879-b365-4d67-a606-d36279c580c3"
      },
      "execution_count": 27,
      "outputs": [
        {
          "output_type": "stream",
          "name": "stdout",
          "text": [
            "Sum of even numbers from 1 to 50: 650\n"
          ]
        }
      ]
    },
    {
      "cell_type": "code",
      "source": [
        "#14\n",
        "text = input(\"Enter a string: \")\n",
        "reversed_text = ''\n",
        "i = len(text) - 1\n",
        "\n",
        "while i >= 0:\n",
        "    reversed_text += text[i]\n",
        "    i -= 1\n",
        "\n",
        "print(\"Reversed string:\", reversed_text)\n"
      ],
      "metadata": {
        "colab": {
          "base_uri": "https://localhost:8080/"
        },
        "id": "tQSAsvIQl95-",
        "outputId": "b5192d76-0747-4a85-baf4-b224f86567df"
      },
      "execution_count": 28,
      "outputs": [
        {
          "output_type": "stream",
          "name": "stdout",
          "text": [
            "Enter a string: rishabh\n",
            "Reversed string: hbahsir\n"
          ]
        }
      ]
    },
    {
      "cell_type": "code",
      "source": [
        "#15\n",
        "num = int(input(\"Enter a number: \"))\n",
        "factorial = 1\n",
        "i = 1\n",
        "\n",
        "while i <= num:\n",
        "    factorial *= i\n",
        "    i += 1\n",
        "\n",
        "print(\"Factorial of\", num, \"is\", factorial)\n"
      ],
      "metadata": {
        "colab": {
          "base_uri": "https://localhost:8080/"
        },
        "id": "rG1FI3PYjBp5",
        "outputId": "daae6f0f-14f0-4804-9235-d6be584cc9fa"
      },
      "execution_count": 29,
      "outputs": [
        {
          "output_type": "stream",
          "name": "stdout",
          "text": [
            "Enter a number: 6\n",
            "Factorial of 6 is 720\n"
          ]
        }
      ]
    }
  ]
}